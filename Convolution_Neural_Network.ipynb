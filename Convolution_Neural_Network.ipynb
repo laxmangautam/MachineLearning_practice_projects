{
  "nbformat": 4,
  "nbformat_minor": 0,
  "metadata": {
    "colab": {
      "name": "Convolution Neural Network",
      "provenance": [],
      "authorship_tag": "ABX9TyOpVZzeyIh59xKQXafTndZL",
      "include_colab_link": true
    },
    "kernelspec": {
      "name": "python3",
      "display_name": "Python 3"
    }
  },
  "cells": [
    {
      "cell_type": "markdown",
      "metadata": {
        "id": "view-in-github",
        "colab_type": "text"
      },
      "source": [
        "<a href=\"https://colab.research.google.com/github/laxmangautam/MachineLearning_practice_projects/blob/main/Convolution_Neural_Network.ipynb\" target=\"_parent\"><img src=\"https://colab.research.google.com/assets/colab-badge.svg\" alt=\"Open In Colab\"/></a>"
      ]
    },
    {
      "cell_type": "code",
      "metadata": {
        "id": "mV6Ki5oEeBkP",
        "outputId": "bf6748f1-bca8-4f33-c70f-f6bfbe117c72",
        "colab": {
          "base_uri": "https://localhost:8080/",
          "height": 545
        }
      },
      "source": [
        "import keras\n",
        "from keras.datasets import mnist\n",
        "from keras.models import Sequential\n",
        "from keras.layers import Dense, Dropout, Flatten\n",
        "from keras.layers import Conv2D, MaxPooling2D\n",
        "import numpy as np\n",
        "\n",
        "batch_size = 128\n",
        "num_classes = 10\n",
        "epochs = 12\n",
        "\n",
        "# input image dimensions\n",
        "img_rows, img_cols = 28, 28\n",
        "\n",
        "# the data, split between train and test sets\n",
        "(x_train, y_train), (x_test, y_test) = mnist.load_data()\n",
        "\n",
        "x_train = x_train.reshape(60000,28,28,1)\n",
        "x_test = x_test.reshape(10000,28,28,1)\n",
        "\n",
        "print('x_train shape:', x_train.shape)\n",
        "print(x_train.shape[0], 'train samples')\n",
        "print(x_test.shape[0], 'test samples')\n",
        "\n",
        "# convert class vectors to binary class matrices\n",
        "y_train = keras.utils.to_categorical(y_train, num_classes)\n",
        "y_test = keras.utils.to_categorical(y_test, num_classes)\n",
        "\n",
        "Y = 2 # the value 2 represents that the image has digit 2 \n",
        "Y = [0,0,1,0,0,0,0,0,0,0] # The 2nd position in the vector is made 1\n",
        "# Here, the class value is converted into a binary class matrix\n",
        "\n",
        "\n",
        "model = Sequential()\n",
        "model.add(Conv2D(64, kernel_size=(3, 3),\n",
        "                 activation='relu',\n",
        "                 input_shape=(28,28,1)))\n",
        "model.add(Conv2D(128, (3, 3), activation='relu'))\n",
        "model.add(MaxPooling2D(pool_size=(2, 2)))\n",
        "model.add(Dropout(0.25))\n",
        "model.add(Flatten())\n",
        "model.add(Dense(256, activation='relu'))\n",
        "model.add(Dropout(0.5))\n",
        "model.add(Dense(num_classes, activation='softmax'))\n",
        "\n",
        "\n",
        "model.compile(loss=keras.losses.categorical_crossentropy,\n",
        "              optimizer=keras.optimizers.Adadelta(),\n",
        "              metrics=['accuracy'])\n",
        "\n",
        "model.fit(x_train, y_train,\n",
        "          batch_size=batch_size,\n",
        "          epochs=epochs,\n",
        "          verbose=1,\n",
        "          validation_data=(x_test, y_test))\n",
        "score = model.evaluate(x_test, y_test, verbose=0)\n",
        "print('Test loss:', score[0])\n",
        "print('Test accuracy:', score[1])"
      ],
      "execution_count": 2,
      "outputs": [
        {
          "output_type": "stream",
          "text": [
            "x_train shape: (60000, 28, 28, 1)\n",
            "60000 train samples\n",
            "10000 test samples\n",
            "Epoch 1/12\n",
            "469/469 [==============================] - 417s 888ms/step - loss: 18.7532 - accuracy: 0.2642 - val_loss: 1.6860 - val_accuracy: 0.7342\n",
            "Epoch 2/12\n",
            "469/469 [==============================] - 415s 885ms/step - loss: 5.6966 - accuracy: 0.4966 - val_loss: 0.7433 - val_accuracy: 0.8292\n",
            "Epoch 3/12\n",
            "469/469 [==============================] - 420s 896ms/step - loss: 2.9541 - accuracy: 0.5851 - val_loss: 0.5175 - val_accuracy: 0.8466\n",
            "Epoch 4/12\n",
            "469/469 [==============================] - 421s 897ms/step - loss: 1.9466 - accuracy: 0.6194 - val_loss: 0.5322 - val_accuracy: 0.8490\n",
            "Epoch 5/12\n",
            "469/469 [==============================] - 417s 889ms/step - loss: 1.5250 - accuracy: 0.6360 - val_loss: 0.5877 - val_accuracy: 0.8497\n",
            "Epoch 6/12\n",
            "469/469 [==============================] - 420s 896ms/step - loss: 1.2941 - accuracy: 0.6545 - val_loss: 0.5908 - val_accuracy: 0.8570\n",
            "Epoch 7/12\n",
            "469/469 [==============================] - 416s 887ms/step - loss: 1.1551 - accuracy: 0.6764 - val_loss: 0.5523 - val_accuracy: 0.8703\n",
            "Epoch 8/12\n",
            "469/469 [==============================] - 415s 885ms/step - loss: 1.0599 - accuracy: 0.7009 - val_loss: 0.5106 - val_accuracy: 0.8787\n",
            "Epoch 9/12\n",
            "469/469 [==============================] - 415s 886ms/step - loss: 0.9888 - accuracy: 0.7175 - val_loss: 0.4651 - val_accuracy: 0.8893\n",
            "Epoch 10/12\n",
            "469/469 [==============================] - 415s 884ms/step - loss: 0.9157 - accuracy: 0.7377 - val_loss: 0.4285 - val_accuracy: 0.8992\n",
            "Epoch 11/12\n",
            "469/469 [==============================] - 415s 884ms/step - loss: 0.8615 - accuracy: 0.7531 - val_loss: 0.3964 - val_accuracy: 0.9041\n",
            "Epoch 12/12\n",
            "469/469 [==============================] - 420s 896ms/step - loss: 0.8330 - accuracy: 0.7620 - val_loss: 0.3731 - val_accuracy: 0.9087\n",
            "Test loss: 0.3730908930301666\n",
            "Test accuracy: 0.9086999893188477\n"
          ],
          "name": "stdout"
        }
      ]
    },
    {
      "cell_type": "code",
      "metadata": {
        "id": "mfJYbMYeeQZJ"
      },
      "source": [
        ""
      ],
      "execution_count": null,
      "outputs": []
    }
  ]
}